{
 "cells": [
  {
   "cell_type": "markdown",
   "id": "444f93c8-6ac1-43e2-b0ba-c10558ef3029",
   "metadata": {},
   "source": [
    "#  Data Science Tools and Ecosystem"
   ]
  },
  {
   "cell_type": "markdown",
   "id": "0f5447a2-96df-4c5d-8015-116d522608c9",
   "metadata": {},
   "source": [
    "In this notebook, Data Science Tools and Ecosystem are summarized."
   ]
  },
  {
   "cell_type": "markdown",
   "id": "26a230c9-dc18-4c5b-a871-37288e846247",
   "metadata": {},
   "source": [
    "**Objectives:**\n",
    "* Some popular data science languages\n",
    "* Some of the commonly used libraries used by Data Scientists include\n",
    "* Create a markdown cell with a table of Data Science tools"
   ]
  },
  {
   "cell_type": "markdown",
   "id": "a80dc184-bdd5-4203-a42e-30a807e2f6c2",
   "metadata": {},
   "source": [
    "Some of the popular languages that Data Scientists use are:"
   ]
  },
  {
   "cell_type": "markdown",
   "id": "463ce443-5eba-419d-a9d1-8dc2b9202985",
   "metadata": {},
   "source": [
    "1. Python\n",
    "2. R\n",
    "3. Scala\n",
    "4. C++"
   ]
  },
  {
   "cell_type": "markdown",
   "id": "d60f3906-fa63-4397-8e4b-558f43834518",
   "metadata": {},
   "source": [
    "Some of the commonly used libraries used by Data Scientists include:"
   ]
  },
  {
   "cell_type": "markdown",
   "id": "68f68cd1-66de-4a43-a576-16ce864d5cd7",
   "metadata": {},
   "source": [
    "1. Caret\n",
    "2. Pandas\n",
    "3. Numpy"
   ]
  },
  {
   "cell_type": "markdown",
   "id": "f75ac3ed-378a-408c-ba87-443f2b464dba",
   "metadata": {},
   "source": [
    "#Create a markdown cell with a table of Data Science tools"
   ]
  },
  {
   "cell_type": "markdown",
   "id": "3cf5c13d-9382-4835-84f5-f086440b4190",
   "metadata": {},
   "source": [
    "|Data science Tools|\n",
    "|------------------|\n",
    "|Hadoop|\n",
    "|Apache Spark|\n",
    "|Knime|"
   ]
  },
  {
   "cell_type": "markdown",
   "id": "8bcb8c19-a224-42a7-8444-0549a9efec4f",
   "metadata": {},
   "source": [
    "### Below are a few examples of evaluating arithmetic expressions in Python :"
   ]
  },
  {
   "cell_type": "code",
   "execution_count": 4,
   "id": "6b2e1a1b-6605-4828-b35e-786c8f36077b",
   "metadata": {},
   "outputs": [
    {
     "data": {
      "text/plain": [
       "17"
      ]
     },
     "execution_count": 4,
     "metadata": {},
     "output_type": "execute_result"
    }
   ],
   "source": [
    "#This a simple arithmetic expression to mutiply then add integers\n",
    "(3*4)+5"
   ]
  },
  {
   "cell_type": "code",
   "execution_count": 7,
   "id": "b9350dc4-08c5-43e2-b867-2a504e3be0fd",
   "metadata": {},
   "outputs": [
    {
     "name": "stdout",
     "output_type": "stream",
     "text": [
      "200 minutes is 3.3333333333333335 hours\n"
     ]
    }
   ],
   "source": [
    "#This will convert 200 minutes to hours by diving by 60\n",
    "m = 200\n",
    "s = 60\n",
    "h = m / s\n",
    "print('200 minutes is', h, 'hours')"
   ]
  },
  {
   "cell_type": "markdown",
   "id": "4b03eb33-4109-48a8-9052-1e138821ed87",
   "metadata": {},
   "source": [
    "## Author\n",
    "Eilas Lee"
   ]
  },
  {
   "cell_type": "code",
   "execution_count": null,
   "id": "d886b7c8-78aa-4948-a59e-9282d0f04442",
   "metadata": {},
   "outputs": [],
   "source": []
  }
 ],
 "metadata": {
  "kernelspec": {
   "display_name": "Python 3 (ipykernel)",
   "language": "python",
   "name": "python3"
  },
  "language_info": {
   "codemirror_mode": {
    "name": "ipython",
    "version": 3
   },
   "file_extension": ".py",
   "mimetype": "text/x-python",
   "name": "python",
   "nbconvert_exporter": "python",
   "pygments_lexer": "ipython3",
   "version": "3.13.2"
  }
 },
 "nbformat": 4,
 "nbformat_minor": 5
}
